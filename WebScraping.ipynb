{
 "cells": [
  {
   "cell_type": "markdown",
   "id": "c13dd684",
   "metadata": {},
   "source": [
    "# Web Scraping using Beautiful Soup and Pandas"
   ]
  },
  {
   "cell_type": "markdown",
   "id": "d380017f",
   "metadata": {},
   "source": [
    "----------------------------------------------------------------"
   ]
  },
  {
   "cell_type": "markdown",
   "id": "a9c1465d",
   "metadata": {},
   "source": [
    "Using Beautiful Soup to scrape the webpage : https://best-selling-cars.com/europe/2019-full-year-europe-best-selling-car-manufacturers-and-brands  and find out the best selling car models (by numbers) in Europe in the year 2019 and convert the result to a pandas dataframe \n"
   ]
  },
  {
   "cell_type": "markdown",
   "id": "897791e4",
   "metadata": {},
   "source": [
    "Import the required libraries"
   ]
  },
  {
   "cell_type": "code",
   "execution_count": 145,
   "id": "92659cbf",
   "metadata": {},
   "outputs": [],
   "source": [
    "from bs4 import BeautifulSoup\n",
    "import requests\n",
    "import pandas as pd\n",
    "import re\n",
    "import matplotlib.pyplot as plt"
   ]
  },
  {
   "cell_type": "markdown",
   "id": "1bc5cc33",
   "metadata": {},
   "source": [
    "Get the content of the webpage using the <b>requests</b> library."
   ]
  },
  {
   "cell_type": "code",
   "execution_count": 146,
   "id": "a219fe56",
   "metadata": {},
   "outputs": [],
   "source": [
    "url = 'https://best-selling-cars.com/europe/2019-full-year-europe-best-selling-car-manufacturers-and-brands'\n",
    "html_content = requests.get(url).text"
   ]
  },
  {
   "cell_type": "markdown",
   "id": "2886c4c9",
   "metadata": {},
   "source": [
    "Parse the content of the webpage using <b>Beautiful Soup</b>"
   ]
  },
  {
   "cell_type": "code",
   "execution_count": 147,
   "id": "ba9ee369",
   "metadata": {},
   "outputs": [],
   "source": [
    "soup = BeautifulSoup(html_content,\"lxml\")"
   ]
  },
  {
   "cell_type": "code",
   "execution_count": 148,
   "id": "cca245b2",
   "metadata": {},
   "outputs": [],
   "source": [
    "#  print(soup.prettify)"
   ]
  },
  {
   "cell_type": "markdown",
   "id": "e1b40573",
   "metadata": {},
   "source": [
    "We will use the soup object created above to get a list of tables in the page\n"
   ]
  },
  {
   "cell_type": "code",
   "execution_count": 149,
   "id": "8c3fe0cc",
   "metadata": {},
   "outputs": [
    {
     "name": "stdout",
     "output_type": "stream",
     "text": [
      "2\n"
     ]
    }
   ],
   "source": [
    "tables = soup.find_all(\"table\")\n",
    "print(len(tables))"
   ]
  },
  {
   "cell_type": "markdown",
   "id": "0662650a",
   "metadata": {},
   "source": [
    "Out of the 2 tables on the webpage we are interested in the 2nd table : <b>Economic Freedom</b> <br> We will need the index 1 of the tables list . <br> After getting to the required table we will remove the headers  from the table and save the rest of the table as a pandas dataframe"
   ]
  },
  {
   "cell_type": "code",
   "execution_count": 150,
   "id": "96eced6f",
   "metadata": {},
   "outputs": [],
   "source": [
    "second_table = tables[1]"
   ]
  },
  {
   "cell_type": "markdown",
   "id": "5b864ad8",
   "metadata": {},
   "source": [
    "Each row in the table is represented by <b>tr</b> tag . The first row consists of the header and the rest of the rows are the data which will be used to populate the dataframe"
   ]
  },
  {
   "cell_type": "code",
   "execution_count": 151,
   "id": "a214f579",
   "metadata": {},
   "outputs": [],
   "source": [
    "body_of_table = second_table.find_all('tr')"
   ]
  },
  {
   "cell_type": "code",
   "execution_count": 152,
   "id": "fb52b338",
   "metadata": {},
   "outputs": [],
   "source": [
    "largest_car_manufacturers = body_of_table[1:]"
   ]
  },
  {
   "cell_type": "code",
   "execution_count": 153,
   "id": "fd68f164",
   "metadata": {},
   "outputs": [
    {
     "data": {
      "text/plain": [
       "[<td>2</td>,\n",
       " <td>RENAULT</td>,\n",
       " <td>1,063,957</td>,\n",
       " <td>1,105,119</td>,\n",
       " <td>-3.7</td>]"
      ]
     },
     "execution_count": 153,
     "metadata": {},
     "output_type": "execute_result"
    }
   ],
   "source": [
    "largest_car_manufacturers[1].find_all('td')"
   ]
  },
  {
   "cell_type": "markdown",
   "id": "5d72675a",
   "metadata": {},
   "source": [
    "This gives us the list of the rows of the table "
   ]
  },
  {
   "cell_type": "code",
   "execution_count": 154,
   "id": "13459bc1",
   "metadata": {},
   "outputs": [],
   "source": [
    "\n",
    "# loop through the rows of the table \n",
    "\n",
    "all_rows = []  # create a empty list to store the row entries \n",
    "\n",
    "for num in range(len(largest_car_manufacturers)):\n",
    "    row = []\n",
    "    \n",
    "    for item in largest_car_manufacturers[num].find_all('td'):\n",
    "        \n",
    "        # item.text removes the tags from the entries\n",
    "        # the regex is to remove \\xa0 and \\n and comma from row_item.text\n",
    "        # xa0 encodes the flag, \\n is the newline and comma separates thousands in numbers\n",
    "        list_of_row_entries = re.sub(\"(\\xa0)|(\\n)|,\",\"\",item.text)\n",
    "        \n",
    "        #append aa to row - note one row entry is being appended\n",
    "        row.append(list_of_row_entries)\n",
    "    \n",
    "    #for each row being added , we only need the 2nd and the 3rd item\n",
    "    all_rows.append([row[1],row[2]])"
   ]
  },
  {
   "cell_type": "code",
   "execution_count": 155,
   "id": "eae84f54",
   "metadata": {},
   "outputs": [
    {
     "data": {
      "text/plain": [
       "[['VOLKSWAGEN', '1769482'],\n",
       " ['RENAULT', '1063957'],\n",
       " ['FORD', '965070'],\n",
       " ['PEUGEOT', '964937'],\n",
       " ['MERCEDES', '902039'],\n",
       " ['BMW', '830862'],\n",
       " ['OPEL/VAUXHALL', '815683'],\n",
       " ['SKODA', '761761'],\n",
       " ['AUDI', '743042'],\n",
       " ['TOYOTA ', '741342'],\n",
       " ['FIAT', '659622'],\n",
       " ['CITROEN', '636843'],\n",
       " ['DACIA', '581543'],\n",
       " ['HYUNDAI', '563018'],\n",
       " ['SEAT', '507149'],\n",
       " ['KIA', '502841'],\n",
       " ['NISSAN', '394091'],\n",
       " ['VOLVO', '342579'],\n",
       " ['MAZDA', '256562'],\n",
       " ['MINI', '217185'],\n",
       " ['JEEP', '167118'],\n",
       " ['LAND ROVER', '151800'],\n",
       " ['MITSUBISHI', '148248'],\n",
       " ['HONDA', '122080'],\n",
       " ['SMART', '114616'],\n",
       " ['PORSCHE', '79624'],\n",
       " ['JAGUAR', '76826'],\n",
       " ['LANCIA/CHRYSLER', '58938'],\n",
       " ['LEXUS', '56055'],\n",
       " ['ALFA ROMEO', '53876'],\n",
       " ['Source: ACEA', '']]"
      ]
     },
     "execution_count": 155,
     "metadata": {},
     "output_type": "execute_result"
    }
   ],
   "source": [
    "all_rows"
   ]
  },
  {
   "cell_type": "code",
   "execution_count": 124,
   "id": "53f4392c",
   "metadata": {},
   "outputs": [],
   "source": [
    "# create a pandas dataframe using the data in all rows and providing column names as a list\n",
    "df = pd.DataFrame(data = all_rows, columns = ['Brand','No_of_Cars_Sold'])\n"
   ]
  },
  {
   "cell_type": "code",
   "execution_count": 125,
   "id": "f142006f",
   "metadata": {},
   "outputs": [
    {
     "data": {
      "text/html": [
       "<div>\n",
       "<style scoped>\n",
       "    .dataframe tbody tr th:only-of-type {\n",
       "        vertical-align: middle;\n",
       "    }\n",
       "\n",
       "    .dataframe tbody tr th {\n",
       "        vertical-align: top;\n",
       "    }\n",
       "\n",
       "    .dataframe thead th {\n",
       "        text-align: right;\n",
       "    }\n",
       "</style>\n",
       "<table border=\"1\" class=\"dataframe\">\n",
       "  <thead>\n",
       "    <tr style=\"text-align: right;\">\n",
       "      <th></th>\n",
       "      <th>Brand</th>\n",
       "      <th>No_of_Cars_Sold</th>\n",
       "    </tr>\n",
       "  </thead>\n",
       "  <tbody>\n",
       "    <tr>\n",
       "      <th>26</th>\n",
       "      <td>JAGUAR</td>\n",
       "      <td>76826</td>\n",
       "    </tr>\n",
       "    <tr>\n",
       "      <th>27</th>\n",
       "      <td>LANCIA/CHRYSLER</td>\n",
       "      <td>58938</td>\n",
       "    </tr>\n",
       "    <tr>\n",
       "      <th>28</th>\n",
       "      <td>LEXUS</td>\n",
       "      <td>56055</td>\n",
       "    </tr>\n",
       "    <tr>\n",
       "      <th>29</th>\n",
       "      <td>ALFA ROMEO</td>\n",
       "      <td>53876</td>\n",
       "    </tr>\n",
       "    <tr>\n",
       "      <th>30</th>\n",
       "      <td>Source: ACEA</td>\n",
       "      <td></td>\n",
       "    </tr>\n",
       "  </tbody>\n",
       "</table>\n",
       "</div>"
      ],
      "text/plain": [
       "              Brand No_of_Cars_Sold\n",
       "26           JAGUAR           76826\n",
       "27  LANCIA/CHRYSLER           58938\n",
       "28            LEXUS           56055\n",
       "29       ALFA ROMEO           53876\n",
       "30     Source: ACEA                "
      ]
     },
     "execution_count": 125,
     "metadata": {},
     "output_type": "execute_result"
    }
   ],
   "source": [
    "df.tail()"
   ]
  },
  {
   "cell_type": "code",
   "execution_count": 141,
   "id": "44c76201",
   "metadata": {},
   "outputs": [],
   "source": [
    "# drop the last row\n",
    "df = df.drop(30)"
   ]
  },
  {
   "cell_type": "code",
   "execution_count": 142,
   "id": "e96a62d4",
   "metadata": {},
   "outputs": [],
   "source": [
    "#convert the number of car solds to numeric column\n",
    "df.No_of_Cars_Sold = pd.to_numeric(df.No_of_Cars_Sold)"
   ]
  },
  {
   "cell_type": "markdown",
   "id": "9772ffa6",
   "metadata": {},
   "source": [
    "Plot the data using pandas and matplotlib and save the fig as plot.png "
   ]
  },
  {
   "cell_type": "code",
   "execution_count": 143,
   "id": "524050d2",
   "metadata": {},
   "outputs": [
    {
     "data": {
      "image/png": "[encoded data removed]",
      "text/plain": [
       "<Figure size 864x432 with 1 Axes>"
      ]
     },
     "metadata": {
      "needs_background": "light"
     },
     "output_type": "display_data"
    }
   ],
   "source": [
    "\n",
    "df.plot('Brand','No_of_Cars_Sold',kind='bar',figsize=(12,6))\n",
    "plt.savefig('plot.png', dpi=150, bbox_inches='tight')"
   ]
  },
  {
   "cell_type": "markdown",
   "id": "90610d6b",
   "metadata": {},
   "source": [
    "Save the dataframe as a CSV file"
   ]
  },
  {
   "cell_type": "code",
   "execution_count": 144,
   "id": "d26c4626",
   "metadata": {},
   "outputs": [],
   "source": [
    "df.to_csv('Largest_car_manufacturers_in_Europe.csv')"
   ]
  }
 ],
 "metadata": {
  "kernelspec": {
   "display_name": "Python 3",
   "language": "python",
   "name": "python3"
  },
  "language_info": {
   "codemirror_mode": {
    "name": "ipython",
    "version": 3
   },
   "file_extension": ".py",
   "mimetype": "text/x-python",
   "name": "python",
   "nbconvert_exporter": "python",
   "pygments_lexer": "ipython3",
   "version": "3.8.8"
  }
 },
 "nbformat": 4,
 "nbformat_minor": 5
}
